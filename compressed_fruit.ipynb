{
 "cells": [
  {
   "cell_type": "code",
   "execution_count": null,
   "metadata": {
    "colab": {
     "base_uri": "https://localhost:8080/"
    },
    "id": "xhZeXVsforKm",
    "outputId": "5a772d7b-a81b-4174-896f-9c2a84cac953"
   },
   "outputs": [],
   "source": [
    "from google.colab import drive\n",
    "drive.mount('/content/drive')"
   ]
  },
  {
   "cell_type": "code",
   "execution_count": null,
   "metadata": {
    "id": "Vx-kdTUGqW2o"
   },
   "outputs": [],
   "source": [
    "import os\n",
    "from tensorflow.keras import layers, models\n",
    "import cv2\n",
    "from sklearn.model_selection import train_test_split\n",
    "from tensorflow.keras.preprocessing import image\n",
    "import numpy as np\n",
    "import matplotlib.pyplot as plt"
   ]
  },
  {
   "cell_type": "code",
   "execution_count": null,
   "metadata": {
    "id": "k0Rj34kcrO6A"
   },
   "outputs": [],
   "source": [
    "def load_and_preprocess_data(folder_path,label):\n",
    "    images = []\n",
    "    labels = []\n",
    "\n",
    "    for filename in os.listdir(folder_path):\n",
    "        img_path = os.path.join(folder_path,filename)\n",
    "        img = cv2.imread(img_path)\n",
    "        img = cv2.resize(img,(64,64))\n",
    "        img = img/255.0\n",
    "        images.append(img)\n",
    "        labels.append(label)\n",
    "    return images,labels"
   ]
  },
  {
   "cell_type": "markdown",
   "metadata": {
    "id": "rHETZyipfLqt"
   },
   "source": [
    "image loading\n"
   ]
  },
  {
   "cell_type": "code",
   "execution_count": null,
   "metadata": {
    "id": "03SFnL4SuFma"
   },
   "outputs": [],
   "source": [
    "apple_images,apple_labels=load_and_preprocess_data('/content/drive/MyDrive/apple',label=0)\n",
    "orange_images,orange_labels=load_and_preprocess_data('/content/drive/MyDrive/orange',label=1)"
   ]
  },
  {
   "cell_type": "markdown",
   "metadata": {
    "id": "ffEYAkF5fTjb"
   },
   "source": [
    "tranning"
   ]
  },
  {
   "cell_type": "code",
   "execution_count": null,
   "metadata": {
    "id": "nF-kBrBPuyKz"
   },
   "outputs": [],
   "source": [
    "all_images = np.concatenate([apple_images,orange_images],axis=0)\n",
    "all_labels = np.concatenate([apple_labels,orange_labels],axis=0)"
   ]
  },
  {
   "cell_type": "code",
   "execution_count": null,
   "metadata": {
    "id": "P7-ApMylANQ_"
   },
   "outputs": [],
   "source": [
    "x_train,x_test,y_train,y_test = train_test_split(all_images,all_labels,test_size = 0.2,random_state=42)"
   ]
  },
  {
   "cell_type": "code",
   "execution_count": null,
   "metadata": {
    "colab": {
     "base_uri": "https://localhost:8080/"
    },
    "id": "Sv1chcC3D4VX",
    "outputId": "8b145fec-31ac-4957-a8fa-10a57e7fc140"
   },
   "outputs": [],
   "source": [
    "model = models.Sequential()\n",
    "model.add(layers.Conv2D(64,(3,3),activation = 'relu',input_shape=(64,64,3)))\n",
    "model.add(layers.MaxPool2D((2,2)))\n",
    "model.add(layers.Conv2D(64,(3,3),activation = 'relu'))\n",
    "model.add(layers.MaxPool2D((2,2)))\n",
    "model.add(layers.Flatten())\n",
    "model.add(layers.Dense(64,activation = 'relu'))\n",
    "model.add(layers.Dense(1,activation ='sigmoid'))"
   ]
  },
  {
   "cell_type": "code",
   "execution_count": null,
   "metadata": {
    "id": "kj8Ewoj3FrN4"
   },
   "outputs": [],
   "source": [
    "model.compile(optimizer= 'adam',loss = 'binary_crossentropy',metrics = ['accuracy'])"
   ]
  },
  {
   "cell_type": "code",
   "execution_count": null,
   "metadata": {
    "colab": {
     "base_uri": "https://localhost:8080/"
    },
    "id": "h7Qjjp32XY7j",
    "outputId": "73db1b50-bb40-4a74-f323-65cf22c64cb6"
   },
   "outputs": [],
   "source": [
    "print(\"Train shape:\", x_train.shape, y_train.shape)\n",
    "print(\"Test shape:\", x_test.shape, y_test.shape)\n"
   ]
  },
  {
   "cell_type": "code",
   "execution_count": null,
   "metadata": {
    "colab": {
     "base_uri": "https://localhost:8080/"
    },
    "id": "6bDrsP0EHhsY",
    "outputId": "2752ae85-a4da-4e23-cc45-4c742d8ffa15"
   },
   "outputs": [],
   "source": [
    "model_msk = model.fit(x_train,y_train,epochs=10,validation_data=(x_test,y_test))"
   ]
  },
  {
   "cell_type": "code",
   "execution_count": null,
   "metadata": {
    "id": "L81NIqUbL94G"
   },
   "outputs": [],
   "source": [
    "def preprocess_image(img):\n",
    "    img = cv2.resize(img,(64,64))\n",
    "    img = img/255.0\n",
    "    img = np.expand_dims(img,axis=0)\n",
    "    return img"
   ]
  },
  {
   "cell_type": "code",
   "execution_count": null,
   "metadata": {
    "id": "FFv3f4-TMrvu"
   },
   "outputs": [],
   "source": [
    "def predict_mask(image):\n",
    "    img = preprocess_image(image)\n",
    "    prediction= model.predict(img)\n",
    "    if prediction[0][0]<0.5:\n",
    "        return \"Apple\"\n",
    "    else:\n",
    "        return \"Orange\""
   ]
  },
  {
   "cell_type": "markdown",
   "metadata": {
    "id": "xLWyovNYfaMm"
   },
   "source": [
    "testing"
   ]
  },
  {
   "cell_type": "code",
   "execution_count": null,
   "metadata": {
    "colab": {
     "base_uri": "https://localhost:8080/",
     "height": 435
    },
    "id": "ES890RO4OfL1",
    "outputId": "ef114f2b-ad14-4ea1-e0d1-8a7484f0dd30"
   },
   "outputs": [],
   "source": [
    "image_path= '/content/n07740461_2359.jpg'\n",
    "image = cv2.imread(image_path)\n",
    "\n",
    "plt.imshow(cv2.cvtColor(image, cv2.COLOR_BGR2RGB))\n",
    "plt.show()"
   ]
  },
  {
   "cell_type": "code",
   "execution_count": null,
   "metadata": {
    "colab": {
     "base_uri": "https://localhost:8080/",
     "height": 53
    },
    "id": "FZUIPSTxPFUj",
    "outputId": "ca8aa269-50af-4f1d-b1d0-365989e4ef8b"
   },
   "outputs": [],
   "source": [
    "predict_mask(image)"
   ]
  },
  {
   "cell_type": "code",
   "execution_count": null,
   "metadata": {
    "colab": {
     "base_uri": "https://localhost:8080/",
     "height": 435
    },
    "id": "l83IXfiLTwHj",
    "outputId": "4b0a07df-fca5-4046-c482-28d6470262ab"
   },
   "outputs": [],
   "source": [
    "image_path= '/content/n07749192_374.jpg'\n",
    "image = cv2.imread(image_path)\n",
    "\n",
    "plt.imshow(cv2.cvtColor(image, cv2.COLOR_BGR2RGB))\n",
    "plt.show()"
   ]
  },
  {
   "cell_type": "code",
   "execution_count": null,
   "metadata": {
    "colab": {
     "base_uri": "https://localhost:8080/",
     "height": 53
    },
    "id": "6F8zULCgVBqK",
    "outputId": "5d9297c4-9991-4af1-9a37-fd5e23c0d4e9"
   },
   "outputs": [],
   "source": [
    "predict_mask(image)"
   ]
  },
  {
   "cell_type": "code",
   "execution_count": null,
   "metadata": {
    "colab": {
     "base_uri": "https://localhost:8080/",
     "height": 435
    },
    "id": "-QdFtEjUVEFa",
    "outputId": "c6d7645e-fabd-4db0-bdcf-464601a6d479"
   },
   "outputs": [],
   "source": [
    "image_path= '/content/n07740461_2329.jpg'\n",
    "image = cv2.imread(image_path)\n",
    "\n",
    "plt.imshow(cv2.cvtColor(image, cv2.COLOR_BGR2RGB))\n",
    "plt.show()"
   ]
  },
  {
   "cell_type": "code",
   "execution_count": null,
   "metadata": {
    "colab": {
     "base_uri": "https://localhost:8080/",
     "height": 53
    },
    "id": "CHIv_3FeVwpT",
    "outputId": "c574e34d-ff68-45fe-c735-04601ff13e85"
   },
   "outputs": [],
   "source": [
    "predict_mask(image)"
   ]
  },
  {
   "cell_type": "code",
   "execution_count": null,
   "metadata": {
    "colab": {
     "base_uri": "https://localhost:8080/",
     "height": 435
    },
    "id": "JX6fU-fiVHk6",
    "outputId": "3d34b5cf-a515-42f0-dbfe-08af5f92e709"
   },
   "outputs": [],
   "source": [
    "image_path= '/content/n07749192_183.jpg'\n",
    "image = cv2.imread(image_path)\n",
    "\n",
    "plt.imshow(cv2.cvtColor(image, cv2.COLOR_BGR2RGB))\n",
    "plt.show()"
   ]
  },
  {
   "cell_type": "code",
   "execution_count": null,
   "metadata": {
    "colab": {
     "base_uri": "https://localhost:8080/",
     "height": 53
    },
    "id": "rZWPfj6yV0M8",
    "outputId": "7a5ed2c3-bd5b-4bf2-9d19-6de90c449328"
   },
   "outputs": [],
   "source": [
    "predict_mask(image)"
   ]
  },
  {
   "cell_type": "code",
   "execution_count": null,
   "metadata": {
    "colab": {
     "base_uri": "https://localhost:8080/",
     "height": 435
    },
    "id": "4lggd9-tVH1M",
    "outputId": "644240e8-47d3-4de8-a9dc-dcd837a7a41e"
   },
   "outputs": [],
   "source": [
    "image_path= '/content/n07740461_2583.jpg'\n",
    "image = cv2.imread(image_path)\n",
    "\n",
    "plt.imshow(cv2.cvtColor(image, cv2.COLOR_BGR2RGB))\n",
    "plt.show()"
   ]
  },
  {
   "cell_type": "code",
   "execution_count": null,
   "metadata": {
    "colab": {
     "base_uri": "https://localhost:8080/",
     "height": 53
    },
    "id": "5urRJNscV1vL",
    "outputId": "055f9b3b-004b-4561-abe3-0449412fedf3"
   },
   "outputs": [],
   "source": [
    "predict_mask(image)"
   ]
  },
  {
   "cell_type": "code",
   "execution_count": null,
   "metadata": {
    "colab": {
     "base_uri": "https://localhost:8080/",
     "height": 435
    },
    "id": "fBZDVhrlVIAi",
    "outputId": "c5cf6362-9f73-4755-9b05-f0cde67b5e3b"
   },
   "outputs": [],
   "source": [
    "image_path= '/content/n07749192_1251.jpg'\n",
    "image = cv2.imread(image_path)\n",
    "\n",
    "plt.imshow(cv2.cvtColor(image, cv2.COLOR_BGR2RGB))\n",
    "plt.show()"
   ]
  },
  {
   "cell_type": "code",
   "execution_count": null,
   "metadata": {
    "colab": {
     "base_uri": "https://localhost:8080/",
     "height": 53
    },
    "id": "fs7EKljXV2Yr",
    "outputId": "24faaed3-20db-4aeb-e4b6-7898aee74c1b"
   },
   "outputs": [],
   "source": [
    "predict_mask(image)"
   ]
  },
  {
   "cell_type": "code",
   "execution_count": null,
   "metadata": {
    "colab": {
     "base_uri": "https://localhost:8080/",
     "height": 435
    },
    "id": "A2F5jtDcVIYq",
    "outputId": "5d3fa076-6355-45a3-be32-dffaf2d4d8b5"
   },
   "outputs": [],
   "source": [
    "image_path= '/content/n07740461_51.jpg'\n",
    "image = cv2.imread(image_path)\n",
    "\n",
    "plt.imshow(cv2.cvtColor(image, cv2.COLOR_BGR2RGB))\n",
    "plt.show()"
   ]
  },
  {
   "cell_type": "code",
   "execution_count": null,
   "metadata": {
    "colab": {
     "base_uri": "https://localhost:8080/",
     "height": 53
    },
    "id": "Ox9N062EV2vj",
    "outputId": "b901ac91-46d9-455a-eae8-04c8d945effc"
   },
   "outputs": [],
   "source": [
    "predict_mask(image)"
   ]
  },
  {
   "cell_type": "code",
   "execution_count": null,
   "metadata": {
    "colab": {
     "base_uri": "https://localhost:8080/",
     "height": 435
    },
    "id": "3QF7VwgLVIpy",
    "outputId": "1d6bf6b1-19f3-40ba-ec4a-73ac8cfd378e"
   },
   "outputs": [],
   "source": [
    "image_path= '/content/n07749192_4031.jpg'\n",
    "image = cv2.imread(image_path)\n",
    "\n",
    "plt.imshow(cv2.cvtColor(image, cv2.COLOR_BGR2RGB))\n",
    "plt.show()"
   ]
  },
  {
   "cell_type": "code",
   "execution_count": null,
   "metadata": {
    "colab": {
     "base_uri": "https://localhost:8080/",
     "height": 53
    },
    "id": "e7j4MBToV3Lk",
    "outputId": "0da5f21e-5195-427a-fa3d-103daa227b53"
   },
   "outputs": [],
   "source": [
    "predict_mask(image)"
   ]
  },
  {
   "cell_type": "code",
   "execution_count": null,
   "metadata": {
    "colab": {
     "base_uri": "https://localhost:8080/",
     "height": 435
    },
    "id": "rJlD95Y7VJMa",
    "outputId": "280a74ec-6ac8-4d31-8dab-ced24b5fdf8b"
   },
   "outputs": [],
   "source": [
    "image_path= '/content/n07740461_3458.jpg'\n",
    "image = cv2.imread(image_path)\n",
    "\n",
    "plt.imshow(cv2.cvtColor(image, cv2.COLOR_BGR2RGB))\n",
    "plt.show()"
   ]
  },
  {
   "cell_type": "code",
   "execution_count": null,
   "metadata": {
    "colab": {
     "base_uri": "https://localhost:8080/",
     "height": 53
    },
    "id": "c9zNvRLkV32D",
    "outputId": "34629fd5-3bf2-41e2-a3b5-d3baa3b611bd"
   },
   "outputs": [],
   "source": [
    "predict_mask(image)"
   ]
  },
  {
   "cell_type": "code",
   "execution_count": null,
   "metadata": {
    "colab": {
     "base_uri": "https://localhost:8080/",
     "height": 435
    },
    "id": "R7AOg7tBVra8",
    "outputId": "9696d9cf-3e61-464e-ab73-1b89ff120eeb"
   },
   "outputs": [],
   "source": [
    "image_path= '/content/n07749192_7751.jpg'\n",
    "image = cv2.imread(image_path)\n",
    "\n",
    "plt.imshow(cv2.cvtColor(image, cv2.COLOR_BGR2RGB))\n",
    "plt.show()"
   ]
  },
  {
   "cell_type": "code",
   "execution_count": null,
   "metadata": {
    "colab": {
     "base_uri": "https://localhost:8080/",
     "height": 53
    },
    "id": "KKb4DdUSVr0a",
    "outputId": "28b1d2f0-88bd-4f8f-bda0-bc5e1fd50dc0"
   },
   "outputs": [],
   "source": [
    "predict_mask(image)"
   ]
  },
  {
   "cell_type": "code",
   "execution_count": null,
   "metadata": {
    "id": "AMdknSssjw3_"
   },
   "outputs": [],
   "source": []
  },
  {
   "cell_type": "code",
   "execution_count": null,
   "metadata": {
    "id": "Ld-xXHnBjw6W"
   },
   "outputs": [],
   "source": []
  }
 ],
 "metadata": {
  "colab": {
   "provenance": []
  },
  "kernelspec": {
   "display_name": "Python 3",
   "name": "python3"
  },
  "language_info": {
   "name": "python"
  }
 },
 "nbformat": 4,
 "nbformat_minor": 0
}
